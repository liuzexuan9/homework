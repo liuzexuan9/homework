{
 "cells": [
  {
   "cell_type": "code",
   "execution_count": 1,
   "metadata": {},
   "outputs": [],
   "source": [
    "from sklearn.datasets import load_breast_cancer"
   ]
  },
  {
   "cell_type": "code",
   "execution_count": 2,
   "metadata": {},
   "outputs": [],
   "source": [
    "data = load_breast_cancer()"
   ]
  },
  {
   "cell_type": "code",
   "execution_count": 3,
   "metadata": {},
   "outputs": [
    {
     "data": {
      "text/plain": [
       "30"
      ]
     },
     "execution_count": 3,
     "metadata": {},
     "output_type": "execute_result"
    }
   ],
   "source": [
    "len(data.feature_names)"
   ]
  },
  {
   "cell_type": "code",
   "execution_count": 4,
   "metadata": {},
   "outputs": [
    {
     "data": {
      "text/plain": [
       "array(['mean radius', 'mean texture', 'mean perimeter', 'mean area',\n",
       "       'mean smoothness', 'mean compactness', 'mean concavity',\n",
       "       'mean concave points', 'mean symmetry', 'mean fractal dimension',\n",
       "       'radius error', 'texture error', 'perimeter error', 'area error',\n",
       "       'smoothness error', 'compactness error', 'concavity error',\n",
       "       'concave points error', 'symmetry error',\n",
       "       'fractal dimension error', 'worst radius', 'worst texture',\n",
       "       'worst perimeter', 'worst area', 'worst smoothness',\n",
       "       'worst compactness', 'worst concavity', 'worst concave points',\n",
       "       'worst symmetry', 'worst fractal dimension'], dtype='|S23')"
      ]
     },
     "execution_count": 4,
     "metadata": {},
     "output_type": "execute_result"
    }
   ],
   "source": [
    "data.feature_names"
   ]
  },
  {
   "cell_type": "code",
   "execution_count": 5,
   "metadata": {},
   "outputs": [
    {
     "data": {
      "text/plain": [
       "569"
      ]
     },
     "execution_count": 5,
     "metadata": {},
     "output_type": "execute_result"
    }
   ],
   "source": [
    "len(data.data[:,2])\n"
   ]
  },
  {
   "cell_type": "code",
   "execution_count": 6,
   "metadata": {},
   "outputs": [
    {
     "data": {
      "text/plain": [
       "30"
      ]
     },
     "execution_count": 6,
     "metadata": {},
     "output_type": "execute_result"
    }
   ],
   "source": [
    "len(data.data[1,:])"
   ]
  },
  {
   "cell_type": "code",
   "execution_count": 7,
   "metadata": {},
   "outputs": [
    {
     "data": {
      "text/plain": [
       "43.79"
      ]
     },
     "execution_count": 7,
     "metadata": {},
     "output_type": "execute_result"
    }
   ],
   "source": [
    "min(data.data[:,2])\n"
   ]
  },
  {
   "cell_type": "code",
   "execution_count": 8,
   "metadata": {},
   "outputs": [
    {
     "data": {
      "text/plain": [
       "357"
      ]
     },
     "execution_count": 8,
     "metadata": {},
     "output_type": "execute_result"
    }
   ],
   "source": [
    "sum(data.target)"
   ]
  },
  {
   "cell_type": "code",
   "execution_count": 9,
   "metadata": {},
   "outputs": [],
   "source": [
    "#print(data.data[:5])\n",
    "#print(data.data[:,3])"
   ]
  },
  {
   "cell_type": "code",
   "execution_count": 10,
   "metadata": {},
   "outputs": [],
   "source": [
    "import numpy as np"
   ]
  },
  {
   "cell_type": "code",
   "execution_count": 11,
   "metadata": {},
   "outputs": [
    {
     "name": "stdout",
     "output_type": "stream",
     "text": [
      "551.1\n"
     ]
    }
   ],
   "source": [
    "median=np.median(data.data[:,3])\n",
    "print(median)"
   ]
  },
  {
   "cell_type": "code",
   "execution_count": 12,
   "metadata": {},
   "outputs": [],
   "source": [
    "import math\n",
    "#熵的函数\n",
    "def H(x):\n",
    "    x=np.array(x)\n",
    "    n=len(x)\n",
    "    m=sum(x)\n",
    "    if(m==0 or m==n):\n",
    "        return 0\n",
    "    ans=0\n",
    "    p=m/n\n",
    "    ans-=p*math.log(p,2)\n",
    "    p=1-p\n",
    "    ans-=p*math.log(p,2)\n",
    "    return ans"
   ]
  },
  {
   "cell_type": "markdown",
   "metadata": {},
   "source": [
    "根据各属性的中值划分成二叉树，并由此根据信息增益来判断合适的划分所在的列"
   ]
  },
  {
   "cell_type": "code",
   "execution_count": 13,
   "metadata": {},
   "outputs": [],
   "source": [
    "def condition_entropy(dataset,axis):\n",
    "    median=np.median(dataset[:,axis])\n",
    "    left=[]\n",
    "    right=[]\n",
    "    for x in dataset:\n",
    "        if(x[axis]<median):\n",
    "            left.append(x)\n",
    "        else :\n",
    "            right.append(x)\n",
    "    if(len(left)==0 or len(right)==0):\n",
    "        return 0\n",
    "    n=len(dataset)\n",
    "    left=np.array(left)\n",
    "    \n",
    "    #print(np.shape(left))\n",
    "    h1=H(left[:,-1])*len(left)/n\n",
    "    right=np.array(right)\n",
    "    h2=H(right[:,-1])*len(right)/n\n",
    "    return h1+h2"
   ]
  },
  {
   "cell_type": "code",
   "execution_count": 14,
   "metadata": {},
   "outputs": [],
   "source": [
    "def min_condition_entropy_index(dataset,axis_n):\n",
    "    index=-1\n",
    "    min_condition_entropy=0\n",
    "    dataset=np.array(dataset)\n",
    "    for axis in range(axis_n):\n",
    "        value=condition_entropy(dataset,axis)\n",
    "        if(index==-1):\n",
    "            index=axis\n",
    "            min_condition_entropy=value\n",
    "        if(value<min_condition_entropy):\n",
    "            index=axis\n",
    "            min_condition_entropy=value\n",
    "    return index"
   ]
  },
  {
   "cell_type": "code",
   "execution_count": 15,
   "metadata": {},
   "outputs": [],
   "source": [
    "#根据给定的列数据的中值将数据集划分成两个子数据集\n",
    "def divide(dataset,axis):\n",
    "    dataset=np.array(dataset)\n",
    "    median=np.median(dataset[:,axis])\n",
    "    left=[]\n",
    "    right=[]\n",
    "    for x in dataset:\n",
    "        if(x[axis]<median):\n",
    "            left.append(x)\n",
    "        else :\n",
    "            right.append(x)\n",
    "    return left,right"
   ]
  },
  {
   "cell_type": "markdown",
   "metadata": {},
   "source": [
    "数据的预处理"
   ]
  },
  {
   "cell_type": "code",
   "execution_count": 16,
   "metadata": {},
   "outputs": [],
   "source": [
    "def combine(x,y):\n",
    "    dataset=[]\n",
    "    n=len(y)\n",
    "    \n",
    "    for i in range(n):\n",
    "        t=[]\n",
    "        t=np.append(t,x[i])\n",
    "        t=np.append(t,y[i])\n",
    "        dataset.append(t)\n",
    "    return dataset\n",
    "        \n",
    "#x=data.data[:5]\n",
    "#y=data.target[:5]\n",
    "#print(data.data[:5])\n",
    "dataset=combine(data.data,data.target)\n",
    "dataset=np.array(dataset)\n",
    "#print(dataset[:5])"
   ]
  },
  {
   "cell_type": "markdown",
   "metadata": {},
   "source": [
    "划分数据集，将数据集划分成训练集和测试集"
   ]
  },
  {
   "cell_type": "code",
   "execution_count": 17,
   "metadata": {},
   "outputs": [],
   "source": [
    "import random\n",
    "def split(x,y):\n",
    "    n=len(x)\n",
    "    t=[i for i in range(n)]\n",
    "    random.shuffle(t)\n",
    "    x=x[t]\n",
    "    y=y[t]\n",
    "    m=int(0.7*n)\n",
    "    train_x=x[:m]\n",
    "    train_y=y[:m]\n",
    "    test_x=x[m:]\n",
    "    test_y=y[m:]\n",
    "    return train_x,train_y,test_x,test_y"
   ]
  },
  {
   "cell_type": "code",
   "execution_count": 18,
   "metadata": {},
   "outputs": [],
   "source": [
    "train_x,train_y,test_x,test_y=split(data.data,data.target)"
   ]
  },
  {
   "cell_type": "code",
   "execution_count": 19,
   "metadata": {},
   "outputs": [
    {
     "name": "stdout",
     "output_type": "stream",
     "text": [
      "398\n"
     ]
    }
   ],
   "source": [
    "print(len(train_x))"
   ]
  },
  {
   "cell_type": "code",
   "execution_count": 20,
   "metadata": {},
   "outputs": [],
   "source": [
    "train_dataset=combine(train_x,train_y)\n"
   ]
  },
  {
   "cell_type": "code",
   "execution_count": 21,
   "metadata": {},
   "outputs": [],
   "source": [
    "index=min_condition_entropy_index(np.array(dataset),30)"
   ]
  },
  {
   "cell_type": "code",
   "execution_count": 22,
   "metadata": {},
   "outputs": [
    {
     "data": {
      "text/plain": [
       "(284, 31)"
      ]
     },
     "execution_count": 22,
     "metadata": {},
     "output_type": "execute_result"
    }
   ],
   "source": [
    "left,right=divide(dataset,index)\n",
    "np.shape(left)"
   ]
  },
  {
   "cell_type": "code",
   "execution_count": 23,
   "metadata": {},
   "outputs": [
    {
     "data": {
      "text/plain": [
       "569"
      ]
     },
     "execution_count": 23,
     "metadata": {},
     "output_type": "execute_result"
    }
   ],
   "source": [
    "len(left)+len(right)"
   ]
  },
  {
   "cell_type": "code",
   "execution_count": 24,
   "metadata": {},
   "outputs": [],
   "source": [
    "class Tree:\n",
    "    def __init__(self,axis,median,target=-1):\n",
    "        self.axis=axis\n",
    "        self.median=median\n",
    "        self.target=target\n",
    "        self.left=None\n",
    "        self.right=None\n",
    "        "
   ]
  },
  {
   "cell_type": "code",
   "execution_count": 25,
   "metadata": {},
   "outputs": [],
   "source": [
    "def create_tree(dataset,axis_n=30,min_node=10):\n",
    "    n=len(dataset)\n",
    "    dataset=np.array(dataset)\n",
    "    m=sum(dataset[:,-1])\n",
    "    \n",
    "    if(n<min_node):\n",
    "        if(m>n/2):\n",
    "            node=Tree(0,0,1);\n",
    "        else:\n",
    "            node=Tree(0,0,0);\n",
    "        return node\n",
    "    \n",
    "    \n",
    "    if(m==0 or n==m):\n",
    "        node = Tree(0,0,dataset[0,-1])\n",
    "        return node\n",
    "    \n",
    "    axis=min_condition_entropy_index(dataset,axis_n)\n",
    "    median=np.median(dataset[:,axis])\n",
    "    node = Tree(axis,median)\n",
    "    #print(axis,median,len(dataset))\n",
    "    left,right=divide(dataset,axis)\n",
    "    if(len(left)>0):\n",
    "        node.left=create_tree(left,axis_n)\n",
    "    if(len(right)>0):\n",
    "        node.right=create_tree(right,axis_n)\n",
    "    return node\n",
    "\n",
    "root=create_tree(dataset)\n"
   ]
  },
  {
   "cell_type": "code",
   "execution_count": 26,
   "metadata": {},
   "outputs": [],
   "source": [
    "#给定数据，给出类别\n",
    "def search(x,axis_n=30):\n",
    "    node=root\n",
    "    while (node.target==-1):\n",
    "        axis=node.axis\n",
    "        median=node.median\n",
    "        if(x[axis]<median):\n",
    "            node=node.left\n",
    "        else:\n",
    "            node=node.right\n",
    "    return node.target\n",
    "\n",
    "#dataset[:,-1]\n"
   ]
  },
  {
   "cell_type": "code",
   "execution_count": 27,
   "metadata": {},
   "outputs": [],
   "source": [
    "def predict(data):\n",
    "    y=[]\n",
    "    for x in data:\n",
    "        t=search(x)\n",
    "        y.append(t)\n",
    "    return y\n",
    "y_=predict(dataset)"
   ]
  },
  {
   "cell_type": "code",
   "execution_count": 28,
   "metadata": {},
   "outputs": [
    {
     "data": {
      "text/plain": [
       "549"
      ]
     },
     "execution_count": 28,
     "metadata": {},
     "output_type": "execute_result"
    }
   ],
   "source": [
    "def acc(y,y_):\n",
    "    \n",
    "    y=np.array(y)\n",
    "    y_=np.array(y_)\n",
    "    n=len(y)\n",
    "    same=0\n",
    "    for i in range(n):\n",
    "        #print(y[i],y_[i])\n",
    "        if y[i]==y_[i]:\n",
    "            \n",
    "            same+=1\n",
    "    return same\n",
    "dataset=np.array(dataset)\n",
    "acc(dataset[:,-1],y_)"
   ]
  },
  {
   "cell_type": "code",
   "execution_count": 29,
   "metadata": {},
   "outputs": [
    {
     "data": {
      "text/plain": [
       "380"
      ]
     },
     "execution_count": 29,
     "metadata": {},
     "output_type": "execute_result"
    }
   ],
   "source": [
    "def cross_validation(dataset,min_node=10,k_folds=5):\n",
    "    n=len(dataset)\n",
    "    m=int((n+k_folds-1)/k_folds)\n",
    "    #print(n)\n",
    "    total_acc=0\n",
    "    for k in range(k_folds):\n",
    "        val_left=k*m\n",
    "        val_right=min((k+1)*m,n)\n",
    "        s=u'现在验证集的范围为'\n",
    "        #print(s)\n",
    "        #print('[%d,%d'%val_left val_right,')')\n",
    "        #print(val_left,val_right)\n",
    "        train_data=[]\n",
    "        val_data=[]\n",
    "        for i in range(val_left,val_right):\n",
    "            val_data.append(dataset[i])\n",
    "        for i in range(val_left):\n",
    "            train_data.append(dataset[i])\n",
    "            \n",
    "        for i in range(val_right,n):\n",
    "            train_data.append(dataset[i])\n",
    "        #print(len(train_data))\n",
    "        root=create_tree(train_data,min_node=min_node)\n",
    "        y_=predict(val_data)\n",
    "        train_data=np.array(train_data)\n",
    "        val_data=np.array(val_data)\n",
    "        t=acc(y_,val_data[:,-1])\n",
    "        total_acc+=t\n",
    "        #print(acc(y_,val_data[:,-1]))\n",
    "    return total_acc\n",
    "cross_validation(train_dataset)"
   ]
  },
  {
   "cell_type": "code",
   "execution_count": 30,
   "metadata": {},
   "outputs": [
    {
     "name": "stdout",
     "output_type": "stream",
     "text": [
      "(3, 380)\n",
      "(5, 380)\n",
      "(7, 380)\n",
      "(10, 380)\n",
      "(15, 380)\n"
     ]
    }
   ],
   "source": [
    "def grid_search(dataset,min_node):\n",
    "    best_ans=0;\n",
    "    best_ans_index=0\n",
    "    for node in min_node:\n",
    "        t=cross_validation(dataset,min_node=node)\n",
    "        print(node,t)\n",
    "        if(t>best_ans):\n",
    "            best_ans=t\n",
    "            best_ans_index=node\n",
    "            \n",
    "    return best_ans_index\n",
    "min_node=[3,5,7,10,15]\n",
    "best_index=grid_search(train_dataset,min_node)\n",
    "root=create_tree(train_dataset,min_node=best_index)\n"
   ]
  },
  {
   "cell_type": "code",
   "execution_count": 31,
   "metadata": {},
   "outputs": [],
   "source": [
    "test_y_=predict(test_x)"
   ]
  },
  {
   "cell_type": "code",
   "execution_count": 32,
   "metadata": {},
   "outputs": [
    {
     "name": "stdout",
     "output_type": "stream",
     "text": [
      "171\n"
     ]
    }
   ],
   "source": [
    "print(len(test_y_))"
   ]
  },
  {
   "cell_type": "code",
   "execution_count": 33,
   "metadata": {},
   "outputs": [
    {
     "data": {
      "text/plain": [
       "95.32163742690058"
      ]
     },
     "execution_count": 33,
     "metadata": {},
     "output_type": "execute_result"
    }
   ],
   "source": [
    "acc(test_y,test_y_)*1.0/len(test_y_)*100"
   ]
  },
  {
   "cell_type": "markdown",
   "metadata": {},
   "source": [
    "使用sklearn的方法，跟自己写的所得的结果做比较\n"
   ]
  },
  {
   "cell_type": "code",
   "execution_count": 34,
   "metadata": {},
   "outputs": [],
   "source": [
    "from sklearn.model_selection import KFold"
   ]
  },
  {
   "cell_type": "code",
   "execution_count": 35,
   "metadata": {},
   "outputs": [],
   "source": [
    "from sklearn.model_selection import GridSearchCV"
   ]
  },
  {
   "cell_type": "code",
   "execution_count": 36,
   "metadata": {},
   "outputs": [],
   "source": [
    "from sklearn.tree import DecisionTreeClassifier"
   ]
  },
  {
   "cell_type": "code",
   "execution_count": 37,
   "metadata": {},
   "outputs": [],
   "source": [
    "from sklearn.metrics import make_scorer"
   ]
  },
  {
   "cell_type": "code",
   "execution_count": 38,
   "metadata": {},
   "outputs": [],
   "source": [
    "def fit_5_fold(x,y):\n",
    "    k_fold=KFold(n_splits=5)\n",
    "    clf=DecisionTreeClassifier()\n",
    "    params = {'max_depth':range(1,21),'criterion':np.array(['entropy'])}\n",
    "    scoring_fnc = make_scorer(acc)\n",
    "    grid = GridSearchCV(clf, param_grid=params,scoring=scoring_fnc,cv=k_fold)\n",
    "    grid = grid.fit(x, y)\n",
    "    return grid.best_estimator_"
   ]
  },
  {
   "cell_type": "code",
   "execution_count": 39,
   "metadata": {},
   "outputs": [
    {
     "name": "stderr",
     "output_type": "stream",
     "text": [
      "/Users/liuzexuan/anaconda2/lib/python2.7/site-packages/sklearn/model_selection/_search.py:841: DeprecationWarning: The default of the `iid` parameter will change from True to False in version 0.22 and will be removed in 0.24. This will change numeric results when test-set sizes are unequal.\n",
      "  DeprecationWarning)\n"
     ]
    }
   ],
   "source": [
    "clf=fit_5_fold(train_x,train_y)"
   ]
  },
  {
   "cell_type": "code",
   "execution_count": 40,
   "metadata": {},
   "outputs": [],
   "source": [
    "y_=clf.predict(test_x)"
   ]
  },
  {
   "cell_type": "code",
   "execution_count": 41,
   "metadata": {},
   "outputs": [
    {
     "data": {
      "text/plain": [
       "92.98245614035088"
      ]
     },
     "execution_count": 41,
     "metadata": {},
     "output_type": "execute_result"
    }
   ],
   "source": [
    "acc(test_y,y_)*1.0/len(test_y_)*100"
   ]
  },
  {
   "cell_type": "markdown",
   "metadata": {},
   "source": [
    "结论：通过上面的多次运行的结果比较，虽然由于数据集采用了random.shuffle，使得结果并不是每一次都相同，但是大体上，自己写的方法和sklearn的方法两者得到的结果相差不大"
   ]
  }
 ],
 "metadata": {
  "kernelspec": {
   "display_name": "Python 2",
   "language": "python",
   "name": "python2"
  },
  "language_info": {
   "codemirror_mode": {
    "name": "ipython",
    "version": 2
   },
   "file_extension": ".py",
   "mimetype": "text/x-python",
   "name": "python",
   "nbconvert_exporter": "python",
   "pygments_lexer": "ipython2",
   "version": "2.7.16"
  }
 },
 "nbformat": 4,
 "nbformat_minor": 2
}
