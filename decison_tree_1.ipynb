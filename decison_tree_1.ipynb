{
 "cells": [
  {
   "cell_type": "code",
   "execution_count": 1,
   "metadata": {},
   "outputs": [],
   "source": [
    "from sklearn.datasets import load_breast_cancer"
   ]
  },
  {
   "cell_type": "code",
   "execution_count": 2,
   "metadata": {},
   "outputs": [],
   "source": [
    "data = load_breast_cancer()"
   ]
  },
  {
   "cell_type": "code",
   "execution_count": 3,
   "metadata": {},
   "outputs": [
    {
     "data": {
      "text/plain": [
       "30"
      ]
     },
     "execution_count": 3,
     "metadata": {},
     "output_type": "execute_result"
    }
   ],
   "source": [
    "len(data.feature_names)"
   ]
  },
  {
   "cell_type": "code",
   "execution_count": 4,
   "metadata": {},
   "outputs": [
    {
     "data": {
      "text/plain": [
       "array(['mean radius', 'mean texture', 'mean perimeter', 'mean area',\n",
       "       'mean smoothness', 'mean compactness', 'mean concavity',\n",
       "       'mean concave points', 'mean symmetry', 'mean fractal dimension',\n",
       "       'radius error', 'texture error', 'perimeter error', 'area error',\n",
       "       'smoothness error', 'compactness error', 'concavity error',\n",
       "       'concave points error', 'symmetry error',\n",
       "       'fractal dimension error', 'worst radius', 'worst texture',\n",
       "       'worst perimeter', 'worst area', 'worst smoothness',\n",
       "       'worst compactness', 'worst concavity', 'worst concave points',\n",
       "       'worst symmetry', 'worst fractal dimension'], dtype='|S23')"
      ]
     },
     "execution_count": 4,
     "metadata": {},
     "output_type": "execute_result"
    }
   ],
   "source": [
    "data.feature_names"
   ]
  },
  {
   "cell_type": "code",
   "execution_count": 5,
   "metadata": {},
   "outputs": [
    {
     "data": {
      "text/plain": [
       "569"
      ]
     },
     "execution_count": 5,
     "metadata": {},
     "output_type": "execute_result"
    }
   ],
   "source": [
    "len(data.data[:,2])\n"
   ]
  },
  {
   "cell_type": "code",
   "execution_count": 6,
   "metadata": {},
   "outputs": [
    {
     "data": {
      "text/plain": [
       "30"
      ]
     },
     "execution_count": 6,
     "metadata": {},
     "output_type": "execute_result"
    }
   ],
   "source": [
    "len(data.data[1,:])"
   ]
  },
  {
   "cell_type": "code",
   "execution_count": 7,
   "metadata": {},
   "outputs": [
    {
     "data": {
      "text/plain": [
       "43.79"
      ]
     },
     "execution_count": 7,
     "metadata": {},
     "output_type": "execute_result"
    }
   ],
   "source": [
    "min(data.data[:,2])\n"
   ]
  },
  {
   "cell_type": "code",
   "execution_count": 8,
   "metadata": {},
   "outputs": [
    {
     "data": {
      "text/plain": [
       "357"
      ]
     },
     "execution_count": 8,
     "metadata": {},
     "output_type": "execute_result"
    }
   ],
   "source": [
    "sum(data.target)"
   ]
  },
  {
   "cell_type": "code",
   "execution_count": 9,
   "metadata": {},
   "outputs": [],
   "source": [
    "#print(data.data[:5])\n",
    "#print(data.data[:,3])"
   ]
  },
  {
   "cell_type": "code",
   "execution_count": 10,
   "metadata": {},
   "outputs": [],
   "source": [
    "import numpy as np"
   ]
  },
  {
   "cell_type": "code",
   "execution_count": 11,
   "metadata": {},
   "outputs": [
    {
     "name": "stdout",
     "output_type": "stream",
     "text": [
      "551.1\n"
     ]
    }
   ],
   "source": [
    "median=np.median(data.data[:,3])\n",
    "print(median)"
   ]
  },
  {
   "cell_type": "code",
   "execution_count": 12,
   "metadata": {},
   "outputs": [],
   "source": [
    "import math\n",
    "def H(x):\n",
    "    x=np.array(x)\n",
    "    n=len(x)\n",
    "    m=sum(x)\n",
    "    if(m==0 or m==n):\n",
    "        return 0\n",
    "    ans=0\n",
    "    p=m/n\n",
    "    ans-=p*math.log(p,2)\n",
    "    p=1-p\n",
    "    ans-=p*math.log(p,2)\n",
    "    return ans"
   ]
  },
  {
   "cell_type": "markdown",
   "metadata": {},
   "source": [
    "根据各属性的中值划分成二叉树，并由此根据信息增益来判断合适的划分所在的列"
   ]
  },
  {
   "cell_type": "code",
   "execution_count": 13,
   "metadata": {},
   "outputs": [],
   "source": [
    "def condition_entropy(dataset,axis):\n",
    "    median=np.median(dataset[:,axis])\n",
    "    left=[]\n",
    "    right=[]\n",
    "    for x in dataset:\n",
    "        if(x[axis]<median):\n",
    "            left.append(x)\n",
    "        else :\n",
    "            right.append(x)\n",
    "    if(len(left)==0 or len(right)==0):\n",
    "        return 0\n",
    "    n=len(dataset)\n",
    "    left=np.array(left)\n",
    "    \n",
    "    #print(np.shape(left))\n",
    "    h1=H(left[:,-1])*len(left)/n\n",
    "    right=np.array(right)\n",
    "    h2=H(right[:,-1])*len(right)/n\n",
    "    return h1+h2"
   ]
  },
  {
   "cell_type": "code",
   "execution_count": 14,
   "metadata": {},
   "outputs": [],
   "source": [
    "def min_condition_entropy_index(dataset,axis_n):\n",
    "    index=-1\n",
    "    min_condition_entropy=0\n",
    "    dataset=np.array(dataset)\n",
    "    for axis in range(axis_n):\n",
    "        value=condition_entropy(dataset,axis)\n",
    "        if(index==-1):\n",
    "            index=axis\n",
    "            min_condition_entropy=value\n",
    "        if(value<min_condition_entropy):\n",
    "            index=axis\n",
    "            min_condition_entropy=value\n",
    "    return index"
   ]
  },
  {
   "cell_type": "code",
   "execution_count": 15,
   "metadata": {},
   "outputs": [],
   "source": [
    "def divide(dataset,axis):\n",
    "    dataset=np.array(dataset)\n",
    "    median=np.median(dataset[:,axis])\n",
    "    left=[]\n",
    "    right=[]\n",
    "    for x in dataset:\n",
    "        if(x[axis]<median):\n",
    "            left.append(x)\n",
    "        else :\n",
    "            right.append(x)\n",
    "    return left,right"
   ]
  },
  {
   "cell_type": "markdown",
   "metadata": {},
   "source": [
    "数据的预处理"
   ]
  },
  {
   "cell_type": "code",
   "execution_count": 16,
   "metadata": {},
   "outputs": [],
   "source": [
    "def combine(x,y):\n",
    "    dataset=[]\n",
    "    n=len(y)\n",
    "    \n",
    "    for i in range(n):\n",
    "        t=[]\n",
    "        t=np.append(t,x[i])\n",
    "        t=np.append(t,y[i])\n",
    "        dataset.append(t)\n",
    "    return dataset\n",
    "        \n",
    "#x=data.data[:5]\n",
    "#y=data.target[:5]\n",
    "#print(data.data[:5])\n",
    "dataset=combine(data.data,data.target)\n",
    "dataset=np.array(dataset)\n",
    "#print(dataset[:5])"
   ]
  },
  {
   "cell_type": "markdown",
   "metadata": {},
   "source": [
    "划分数据集"
   ]
  },
  {
   "cell_type": "code",
   "execution_count": 17,
   "metadata": {},
   "outputs": [],
   "source": [
    "import random\n",
    "def split(x,y):\n",
    "    n=len(x)\n",
    "    t=[i for i in range(n)]\n",
    "    random.shuffle(t)\n",
    "    x=x[t]\n",
    "    y=y[t]\n",
    "    m=int(0.7*n)\n",
    "    train_x=x[:m]\n",
    "    train_y=y[:m]\n",
    "    test_x=x[m:]\n",
    "    test_y=y[m:]\n",
    "    return train_x,train_y,test_x,test_y"
   ]
  },
  {
   "cell_type": "code",
   "execution_count": 18,
   "metadata": {},
   "outputs": [],
   "source": [
    "train_x,train_y,test_x,test_y=split(data.data,data.target)"
   ]
  },
  {
   "cell_type": "code",
   "execution_count": 19,
   "metadata": {},
   "outputs": [
    {
     "name": "stdout",
     "output_type": "stream",
     "text": [
      "398\n"
     ]
    }
   ],
   "source": [
    "print(len(train_x))"
   ]
  },
  {
   "cell_type": "code",
   "execution_count": 20,
   "metadata": {},
   "outputs": [],
   "source": [
    "dataset=combine(train_x,train_y)\n"
   ]
  },
  {
   "cell_type": "code",
   "execution_count": 21,
   "metadata": {},
   "outputs": [],
   "source": [
    "index=min_condition_entropy_index(np.array(dataset),30)"
   ]
  },
  {
   "cell_type": "code",
   "execution_count": 22,
   "metadata": {},
   "outputs": [
    {
     "data": {
      "text/plain": [
       "(199, 31)"
      ]
     },
     "execution_count": 22,
     "metadata": {},
     "output_type": "execute_result"
    }
   ],
   "source": [
    "left,right=divide(dataset,index)\n",
    "np.shape(left)"
   ]
  },
  {
   "cell_type": "code",
   "execution_count": 23,
   "metadata": {},
   "outputs": [
    {
     "data": {
      "text/plain": [
       "398"
      ]
     },
     "execution_count": 23,
     "metadata": {},
     "output_type": "execute_result"
    }
   ],
   "source": [
    "len(left)+len(right)"
   ]
  },
  {
   "cell_type": "code",
   "execution_count": 24,
   "metadata": {},
   "outputs": [],
   "source": [
    "class Tree:\n",
    "    def __init__(self,axis,median,target=-1):\n",
    "        self.axis=axis\n",
    "        self.median=median\n",
    "        self.target=target\n",
    "        self.left=None\n",
    "        self.right=None\n",
    "        "
   ]
  },
  {
   "cell_type": "code",
   "execution_count": 25,
   "metadata": {},
   "outputs": [],
   "source": [
    "def create_tree(dataset,axis_n=30,min_node=10):\n",
    "    n=len(dataset)\n",
    "    dataset=np.array(dataset)\n",
    "    m=sum(dataset[:,-1])\n",
    "    \n",
    "    if(n<min_node):\n",
    "        if(m>n/2):\n",
    "            node=Tree(0,0,1);\n",
    "        else:\n",
    "            node=Tree(0,0,0);\n",
    "        return node\n",
    "    \n",
    "    \n",
    "    if(m==0 or n==m):\n",
    "        node = Tree(0,0,dataset[0,-1])\n",
    "        return node\n",
    "    \n",
    "    axis=min_condition_entropy_index(dataset,axis_n)\n",
    "    median=np.median(dataset[:,axis])\n",
    "    node = Tree(axis,median)\n",
    "    #print(axis,median,len(dataset))\n",
    "    left,right=divide(dataset,axis)\n",
    "    if(len(left)>0):\n",
    "        node.left=create_tree(left,axis_n)\n",
    "    if(len(right)>0):\n",
    "        node.right=create_tree(right,axis_n)\n",
    "    return node\n",
    "\n",
    "root=create_tree(dataset)\n"
   ]
  },
  {
   "cell_type": "code",
   "execution_count": 26,
   "metadata": {},
   "outputs": [],
   "source": [
    "def search(x,axis_n=30):\n",
    "    node=root\n",
    "    while (node.target==-1):\n",
    "        axis=node.axis\n",
    "        median=node.median\n",
    "        if(x[axis]<median):\n",
    "            node=node.left\n",
    "        else:\n",
    "            node=node.right\n",
    "    return node.target\n",
    "\n",
    "#dataset[:,-1]\n"
   ]
  },
  {
   "cell_type": "code",
   "execution_count": null,
   "metadata": {},
   "outputs": [],
   "source": []
  },
  {
   "cell_type": "code",
   "execution_count": null,
   "metadata": {},
   "outputs": [],
   "source": []
  }
 ],
 "metadata": {
  "kernelspec": {
   "display_name": "Python 2",
   "language": "python",
   "name": "python2"
  },
  "language_info": {
   "codemirror_mode": {
    "name": "ipython",
    "version": 2
   },
   "file_extension": ".py",
   "mimetype": "text/x-python",
   "name": "python",
   "nbconvert_exporter": "python",
   "pygments_lexer": "ipython2",
   "version": "2.7.16"
  }
 },
 "nbformat": 4,
 "nbformat_minor": 2
}
